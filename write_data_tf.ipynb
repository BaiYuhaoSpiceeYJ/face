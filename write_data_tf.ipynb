{
 "cells": [
  {
   "cell_type": "code",
   "execution_count": null,
   "metadata": {},
   "outputs": [
    {
     "name": "stderr",
     "output_type": "stream",
     "text": [
      "E:\\Anaconda3\\lib\\site-packages\\h5py\\__init__.py:36: FutureWarning: Conversion of the second argument of issubdtype from `float` to `np.floating` is deprecated. In future, it will be treated as `np.float64 == np.dtype(float).type`.\n",
      "  from ._conv import register_converters as _register_converters\n"
     ]
    }
   ],
   "source": [
    "import tensorflow as tf\n",
    "import cv2 \n",
    "import numpy as np\n",
    "import glob\n",
    "from scipy.io import loadmat\n",
    "\n",
    "landmark_path = r\"E:\\AI\\FaceDataset\\300W_LP\\landmarks\"\n",
    "landmark_path_folders = glob.glob(landmark_path + r\"\\*\")\n",
    "landmark_anno_list = []\n",
    "\n",
    "for f in landmark_path_folders:\n",
    "    landmark_anno_list += glob.glob(f + r\"\\*.mat\")\n",
    "#print(landmark_anno_list.__len__()) 61225\n",
    "#landmark_anno_list 例：E:\\AI\\FaceDataset\\300W_LP\\landmarks\\AFW\\AFW_9545523490_1_3_pts.mat\n",
    "#             图片地址：E:\\AI\\FaceDataset\\300W_LP\\AFW\\AFW_9545523490_1_3.jpg\n",
    "#格式对应\n",
    "\n",
    "writer_train = tf.python_io.TFRecordWriter(\"train.tfrecords\")\n",
    "writer_test = tf.python_io.TFRecordWriter(\"test.tfrecords\")\n",
    "\n",
    "for idx in range(landmark_anno_list.__len__()):\n",
    "    landmark_info = landmark_anno_list[idx]\n",
    "    im_path = landmark_info.replace(\"300W_LP\\landmarks\",\"300W_LP\").replace(\"_pts.mat\",\".jpg\")\n",
    "    landmark = loadmat(landmark_info)['pts_2d']\n",
    "    #对数据截图\n",
    "    x_max = int(np.max(landmark[0:68,0]))\n",
    "    x_min = int(np.min(landmark[0:68,0]))\n",
    "    y_max = int(np.max(landmark[0:68,1]))\n",
    "    y_min = int(np.min(landmark[0:68,1]))\n",
    "    #扩大bbox范围\n",
    "    y_min = int(y_min - (y_max-y_min)*0.3)\n",
    "    y_max = int(y_max + (y_max-y_min)*0.1)\n",
    "    x_min = int(x_min - (x_max-x_min)*0.05)\n",
    "    x_max = int(x_max + (x_max-x_min)*0.05)\n",
    "    \n",
    "    \"\"\"\n",
    "    im_data = cv2.imread(im_path)\n",
    "    cv2.rectangle(im_data,(x_min,y_min),(x_max,y_max),(0,255,255),2)\n",
    "    for i in range(68):\n",
    "        cv2.circle(im_data,(int(landmark[i][0]),int(landmark[i][1])),1,(64,250,125),2)#数据，坐标，圆半径，颜色，线条粗细\n",
    "    cv2.imshow('img',im_data)\n",
    "    cv2.waitKey(0)\n",
    "    \"\"\"\n",
    "    im_data = cv2.imread(im_path)\n",
    "    face_data = im_data[y_min:y_max,x_min:x_max]\n",
    "    shape = face_data.shape\n",
    "    im_point = []\n",
    "\n",
    "    for p in range(68):\n",
    "        im_point.append((landmark[p][0] - x_min) * 1.0 / shape[1])\n",
    "        im_point.append((landmark[p][1] - y_min) * 1.0 / shape[0]) #每个点的归一化坐标\n",
    "    face_data = cv2.resize(face_data,(128,128))\n",
    "    ex = tf.train.Example(\n",
    "        features = tf.train.Features(\n",
    "            feature = {\n",
    "                \"image\" : tf.train.Feature(\n",
    "                    bytes_list = tf.train.BytesList(value = [face_data.tobytes()])\n",
    "                ),\n",
    "                \"label\" : tf.train.Feature(\n",
    "                    float_list = tf.train.FloatList(value = im_point)\n",
    "                )\n",
    "            }\n",
    "        )\n",
    "    )\n",
    "    if idx > landmark_anno_list.__len__() * 0.9:\n",
    "        writer_test.write(ex.SerializeToString())\n",
    "    else:\n",
    "        writer_train.write(ex.SerializeToString())\n",
    "        \n",
    "writer_test.close()\n",
    "writer_train.close()\n"
   ]
  },
  {
   "cell_type": "code",
   "execution_count": null,
   "metadata": {},
   "outputs": [],
   "source": []
  }
 ],
 "metadata": {
  "kernelspec": {
   "display_name": "Python 3",
   "language": "python",
   "name": "python3"
  },
  "language_info": {
   "codemirror_mode": {
    "name": "ipython",
    "version": 3
   },
   "file_extension": ".py",
   "mimetype": "text/x-python",
   "name": "python",
   "nbconvert_exporter": "python",
   "pygments_lexer": "ipython3",
   "version": "3.6.5"
  }
 },
 "nbformat": 4,
 "nbformat_minor": 2
}
